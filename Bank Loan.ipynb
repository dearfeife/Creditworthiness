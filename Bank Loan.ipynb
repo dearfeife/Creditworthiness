{
 "cells": [
  {
   "cell_type": "markdown",
   "metadata": {},
   "source": [
    "## Creditworthiness"
   ]
  },
  {
   "cell_type": "markdown",
   "metadata": {},
   "source": [
    "Business Problem : Determining if new customers are creditworthy to give a loan to\n",
    "\n",
    "Dataset:\n",
    "\n",
    "1.Data on all past applications, includes all credit approvals from your past loan applicants the bank has ever completed \n",
    "\n",
    "2.The list of new customers that need to be processed"
   ]
  },
  {
   "cell_type": "code",
   "execution_count": 537,
   "metadata": {},
   "outputs": [],
   "source": [
    "import pandas as pd\n",
    "import numpy as np\n",
    "import seaborn as sb\n",
    "import matplotlib.pyplot as plt\n",
    "from sklearn.metrics import plot_confusion_matrix\n",
    "from sklearn.model_selection import train_test_split\n",
    "from sklearn.ensemble import RandomForestRegressor\n",
    "from sklearn.metrics import accuracy_score"
   ]
  },
  {
   "cell_type": "code",
   "execution_count": 538,
   "metadata": {},
   "outputs": [],
   "source": [
    "df_train = pd.read_excel('credit-data-training.xlsx')"
   ]
  },
  {
   "cell_type": "code",
   "execution_count": 539,
   "metadata": {},
   "outputs": [
    {
     "data": {
      "text/html": [
       "<div>\n",
       "<style scoped>\n",
       "    .dataframe tbody tr th:only-of-type {\n",
       "        vertical-align: middle;\n",
       "    }\n",
       "\n",
       "    .dataframe tbody tr th {\n",
       "        vertical-align: top;\n",
       "    }\n",
       "\n",
       "    .dataframe thead th {\n",
       "        text-align: right;\n",
       "    }\n",
       "</style>\n",
       "<table border=\"1\" class=\"dataframe\">\n",
       "  <thead>\n",
       "    <tr style=\"text-align: right;\">\n",
       "      <th></th>\n",
       "      <th>Credit-Application-Result</th>\n",
       "      <th>Account-Balance</th>\n",
       "      <th>Duration-of-Credit-Month</th>\n",
       "      <th>Payment-Status-of-Previous-Credit</th>\n",
       "      <th>Purpose</th>\n",
       "      <th>Credit-Amount</th>\n",
       "      <th>Value-Savings-Stocks</th>\n",
       "      <th>Length-of-current-employment</th>\n",
       "      <th>Instalment-per-cent</th>\n",
       "      <th>Guarantors</th>\n",
       "      <th>Duration-in-Current-address</th>\n",
       "      <th>Most-valuable-available-asset</th>\n",
       "      <th>Age-years</th>\n",
       "      <th>Concurrent-Credits</th>\n",
       "      <th>Type-of-apartment</th>\n",
       "      <th>No-of-Credits-at-this-Bank</th>\n",
       "      <th>Occupation</th>\n",
       "      <th>No-of-dependents</th>\n",
       "      <th>Telephone</th>\n",
       "      <th>Foreign-Worker</th>\n",
       "    </tr>\n",
       "  </thead>\n",
       "  <tbody>\n",
       "    <tr>\n",
       "      <th>0</th>\n",
       "      <td>Creditworthy</td>\n",
       "      <td>Some Balance</td>\n",
       "      <td>4</td>\n",
       "      <td>Paid Up</td>\n",
       "      <td>Other</td>\n",
       "      <td>1494</td>\n",
       "      <td>£100-£1000</td>\n",
       "      <td>&lt; 1yr</td>\n",
       "      <td>1</td>\n",
       "      <td>None</td>\n",
       "      <td>2.0</td>\n",
       "      <td>1</td>\n",
       "      <td>NaN</td>\n",
       "      <td>Other Banks/Depts</td>\n",
       "      <td>2</td>\n",
       "      <td>1</td>\n",
       "      <td>1</td>\n",
       "      <td>2</td>\n",
       "      <td>1</td>\n",
       "      <td>2</td>\n",
       "    </tr>\n",
       "    <tr>\n",
       "      <th>1</th>\n",
       "      <td>Creditworthy</td>\n",
       "      <td>Some Balance</td>\n",
       "      <td>4</td>\n",
       "      <td>Paid Up</td>\n",
       "      <td>Home Related</td>\n",
       "      <td>1494</td>\n",
       "      <td>£100-£1000</td>\n",
       "      <td>&lt; 1yr</td>\n",
       "      <td>1</td>\n",
       "      <td>None</td>\n",
       "      <td>2.0</td>\n",
       "      <td>1</td>\n",
       "      <td>29.0</td>\n",
       "      <td>Other Banks/Depts</td>\n",
       "      <td>2</td>\n",
       "      <td>1</td>\n",
       "      <td>1</td>\n",
       "      <td>2</td>\n",
       "      <td>1</td>\n",
       "      <td>2</td>\n",
       "    </tr>\n",
       "    <tr>\n",
       "      <th>2</th>\n",
       "      <td>Creditworthy</td>\n",
       "      <td>Some Balance</td>\n",
       "      <td>4</td>\n",
       "      <td>No Problems (in this bank)</td>\n",
       "      <td>Home Related</td>\n",
       "      <td>1544</td>\n",
       "      <td>None</td>\n",
       "      <td>1-4 yrs</td>\n",
       "      <td>2</td>\n",
       "      <td>None</td>\n",
       "      <td>1.0</td>\n",
       "      <td>1</td>\n",
       "      <td>42.0</td>\n",
       "      <td>Other Banks/Depts</td>\n",
       "      <td>2</td>\n",
       "      <td>More than 1</td>\n",
       "      <td>1</td>\n",
       "      <td>2</td>\n",
       "      <td>1</td>\n",
       "      <td>1</td>\n",
       "    </tr>\n",
       "    <tr>\n",
       "      <th>3</th>\n",
       "      <td>Creditworthy</td>\n",
       "      <td>Some Balance</td>\n",
       "      <td>4</td>\n",
       "      <td>No Problems (in this bank)</td>\n",
       "      <td>Home Related</td>\n",
       "      <td>3380</td>\n",
       "      <td>None</td>\n",
       "      <td>1-4 yrs</td>\n",
       "      <td>1</td>\n",
       "      <td>None</td>\n",
       "      <td>1.0</td>\n",
       "      <td>1</td>\n",
       "      <td>37.0</td>\n",
       "      <td>Other Banks/Depts</td>\n",
       "      <td>2</td>\n",
       "      <td>1</td>\n",
       "      <td>1</td>\n",
       "      <td>2</td>\n",
       "      <td>1</td>\n",
       "      <td>1</td>\n",
       "    </tr>\n",
       "    <tr>\n",
       "      <th>4</th>\n",
       "      <td>Creditworthy</td>\n",
       "      <td>No Account</td>\n",
       "      <td>6</td>\n",
       "      <td>Paid Up</td>\n",
       "      <td>Home Related</td>\n",
       "      <td>343</td>\n",
       "      <td>None</td>\n",
       "      <td>&lt; 1yr</td>\n",
       "      <td>4</td>\n",
       "      <td>None</td>\n",
       "      <td>1.0</td>\n",
       "      <td>1</td>\n",
       "      <td>27.0</td>\n",
       "      <td>Other Banks/Depts</td>\n",
       "      <td>2</td>\n",
       "      <td>1</td>\n",
       "      <td>1</td>\n",
       "      <td>1</td>\n",
       "      <td>1</td>\n",
       "      <td>1</td>\n",
       "    </tr>\n",
       "  </tbody>\n",
       "</table>\n",
       "</div>"
      ],
      "text/plain": [
       "  Credit-Application-Result Account-Balance  Duration-of-Credit-Month  \\\n",
       "0              Creditworthy    Some Balance                         4   \n",
       "1              Creditworthy    Some Balance                         4   \n",
       "2              Creditworthy    Some Balance                         4   \n",
       "3              Creditworthy    Some Balance                         4   \n",
       "4              Creditworthy      No Account                         6   \n",
       "\n",
       "  Payment-Status-of-Previous-Credit       Purpose  Credit-Amount  \\\n",
       "0                           Paid Up         Other           1494   \n",
       "1                           Paid Up  Home Related           1494   \n",
       "2        No Problems (in this bank)  Home Related           1544   \n",
       "3        No Problems (in this bank)  Home Related           3380   \n",
       "4                           Paid Up  Home Related            343   \n",
       "\n",
       "  Value-Savings-Stocks Length-of-current-employment  Instalment-per-cent  \\\n",
       "0           £100-£1000                        < 1yr                    1   \n",
       "1           £100-£1000                        < 1yr                    1   \n",
       "2                 None                      1-4 yrs                    2   \n",
       "3                 None                      1-4 yrs                    1   \n",
       "4                 None                        < 1yr                    4   \n",
       "\n",
       "  Guarantors  Duration-in-Current-address  Most-valuable-available-asset  \\\n",
       "0       None                          2.0                              1   \n",
       "1       None                          2.0                              1   \n",
       "2       None                          1.0                              1   \n",
       "3       None                          1.0                              1   \n",
       "4       None                          1.0                              1   \n",
       "\n",
       "   Age-years Concurrent-Credits  Type-of-apartment No-of-Credits-at-this-Bank  \\\n",
       "0        NaN  Other Banks/Depts                  2                          1   \n",
       "1       29.0  Other Banks/Depts                  2                          1   \n",
       "2       42.0  Other Banks/Depts                  2                More than 1   \n",
       "3       37.0  Other Banks/Depts                  2                          1   \n",
       "4       27.0  Other Banks/Depts                  2                          1   \n",
       "\n",
       "   Occupation  No-of-dependents  Telephone  Foreign-Worker  \n",
       "0           1                 2          1               2  \n",
       "1           1                 2          1               2  \n",
       "2           1                 2          1               1  \n",
       "3           1                 2          1               1  \n",
       "4           1                 1          1               1  "
      ]
     },
     "execution_count": 539,
     "metadata": {},
     "output_type": "execute_result"
    }
   ],
   "source": [
    "df_train.head()"
   ]
  },
  {
   "cell_type": "code",
   "execution_count": 540,
   "metadata": {},
   "outputs": [
    {
     "data": {
      "text/plain": [
       "Credit-Application-Result              0\n",
       "Account-Balance                        0\n",
       "Duration-of-Credit-Month               0\n",
       "Payment-Status-of-Previous-Credit      0\n",
       "Purpose                                0\n",
       "Credit-Amount                          0\n",
       "Value-Savings-Stocks                   0\n",
       "Length-of-current-employment           0\n",
       "Instalment-per-cent                    0\n",
       "Guarantors                             0\n",
       "Duration-in-Current-address          344\n",
       "Most-valuable-available-asset          0\n",
       "Age-years                             12\n",
       "Concurrent-Credits                     0\n",
       "Type-of-apartment                      0\n",
       "No-of-Credits-at-this-Bank             0\n",
       "Occupation                             0\n",
       "No-of-dependents                       0\n",
       "Telephone                              0\n",
       "Foreign-Worker                         0\n",
       "dtype: int64"
      ]
     },
     "execution_count": 540,
     "metadata": {},
     "output_type": "execute_result"
    }
   ],
   "source": [
    "df_train.isnull().sum()"
   ]
  },
  {
   "cell_type": "markdown",
   "metadata": {},
   "source": [
    "The field Duration in Current Address has 344 nulls. 344 is a relatively large set,so I decide drop this field. For Age-years, there is only 12 nulls. 12 is a small set, so I fill nulls with median"
   ]
  },
  {
   "cell_type": "code",
   "execution_count": 541,
   "metadata": {},
   "outputs": [],
   "source": [
    "df_train.drop(columns = 'Duration-in-Current-address',inplace = True)"
   ]
  },
  {
   "cell_type": "code",
   "execution_count": 542,
   "metadata": {},
   "outputs": [
    {
     "data": {
      "text/plain": [
       "0       NaN\n",
       "1      29.0\n",
       "2      42.0\n",
       "3      37.0\n",
       "4      27.0\n",
       "       ... \n",
       "495     NaN\n",
       "496    27.0\n",
       "497    27.0\n",
       "498    63.0\n",
       "499    27.0\n",
       "Name: Age-years, Length: 500, dtype: float64"
      ]
     },
     "execution_count": 542,
     "metadata": {},
     "output_type": "execute_result"
    }
   ],
   "source": [
    "df_train['Age-years']"
   ]
  },
  {
   "cell_type": "code",
   "execution_count": 543,
   "metadata": {},
   "outputs": [],
   "source": [
    "df_train = df_train.replace(np.nan,df_train['Age-years'].median())"
   ]
  },
  {
   "cell_type": "code",
   "execution_count": 544,
   "metadata": {},
   "outputs": [
    {
     "data": {
      "text/plain": [
       "0      33.0\n",
       "1      29.0\n",
       "2      42.0\n",
       "3      37.0\n",
       "4      27.0\n",
       "       ... \n",
       "495    33.0\n",
       "496    27.0\n",
       "497    27.0\n",
       "498    63.0\n",
       "499    27.0\n",
       "Name: Age-years, Length: 500, dtype: float64"
      ]
     },
     "execution_count": 544,
     "metadata": {},
     "output_type": "execute_result"
    }
   ],
   "source": [
    "df_train['Age-years']"
   ]
  },
  {
   "cell_type": "code",
   "execution_count": 545,
   "metadata": {},
   "outputs": [
    {
     "data": {
      "text/plain": [
       "Credit-Application-Result            0\n",
       "Account-Balance                      0\n",
       "Duration-of-Credit-Month             0\n",
       "Payment-Status-of-Previous-Credit    0\n",
       "Purpose                              0\n",
       "Credit-Amount                        0\n",
       "Value-Savings-Stocks                 0\n",
       "Length-of-current-employment         0\n",
       "Instalment-per-cent                  0\n",
       "Guarantors                           0\n",
       "Most-valuable-available-asset        0\n",
       "Age-years                            0\n",
       "Concurrent-Credits                   0\n",
       "Type-of-apartment                    0\n",
       "No-of-Credits-at-this-Bank           0\n",
       "Occupation                           0\n",
       "No-of-dependents                     0\n",
       "Telephone                            0\n",
       "Foreign-Worker                       0\n",
       "dtype: int64"
      ]
     },
     "execution_count": 545,
     "metadata": {},
     "output_type": "execute_result"
    }
   ],
   "source": [
    "df_train.isnull().sum()"
   ]
  },
  {
   "cell_type": "code",
   "execution_count": 546,
   "metadata": {},
   "outputs": [
    {
     "data": {
      "text/plain": [
       "<matplotlib.axes._subplots.AxesSubplot at 0x1a24c24dd0>"
      ]
     },
     "execution_count": 546,
     "metadata": {},
     "output_type": "execute_result"
    },
    {
     "data": {
      "image/png": "[encoded data removed]",
      "text/plain": [
       "<Figure size 432x288 with 1 Axes>"
      ]
     },
     "metadata": {
      "needs_background": "light"
     },
     "output_type": "display_data"
    }
   ],
   "source": [
    "base_color = sb.color_palette()[0]\n",
    "sb.countplot(data = df_train, x= 'Concurrent-Credits',color = base_color)"
   ]
  },
  {
   "cell_type": "code",
   "execution_count": 547,
   "metadata": {},
   "outputs": [
    {
     "data": {
      "text/plain": [
       "<matplotlib.axes._subplots.AxesSubplot at 0x1a255d8c10>"
      ]
     },
     "execution_count": 547,
     "metadata": {},
     "output_type": "execute_result"
    },
    {
     "data": {
      "image/png": "[encoded data removed]",
      "text/plain": [
       "<Figure size 432x288 with 1 Axes>"
      ]
     },
     "metadata": {
      "needs_background": "light"
     },
     "output_type": "display_data"
    }
   ],
   "source": [
    "sb.countplot(data = df_train, x= 'No-of-dependents',color = base_color)\n",
    "\n"
   ]
  },
  {
   "cell_type": "code",
   "execution_count": 548,
   "metadata": {},
   "outputs": [
    {
     "data": {
      "text/plain": [
       "<matplotlib.axes._subplots.AxesSubplot at 0x1a25620e90>"
      ]
     },
     "execution_count": 548,
     "metadata": {},
     "output_type": "execute_result"
    },
    {
     "data": {
      "image/png": "[encoded data removed]",
      "text/plain": [
       "<Figure size 432x288 with 1 Axes>"
      ]
     },
     "metadata": {
      "needs_background": "light"
     },
     "output_type": "display_data"
    }
   ],
   "source": [
    "sb.countplot(data = df_train, x= 'Foreign-Worker',color = base_color)\n"
   ]
  },
  {
   "cell_type": "code",
   "execution_count": 549,
   "metadata": {},
   "outputs": [
    {
     "data": {
      "text/plain": [
       "<matplotlib.axes._subplots.AxesSubplot at 0x1a25774d10>"
      ]
     },
     "execution_count": 549,
     "metadata": {},
     "output_type": "execute_result"
    },
    {
     "data": {
      "image/png": "[encoded data removed]",
      "text/plain": [
       "<Figure size 432x288 with 1 Axes>"
      ]
     },
     "metadata": {
      "needs_background": "light"
     },
     "output_type": "display_data"
    }
   ],
   "source": [
    "sb.countplot(data = df_train, x= 'Guarantors',color = base_color)\n"
   ]
  },
  {
   "cell_type": "code",
   "execution_count": 550,
   "metadata": {
    "scrolled": true
   },
   "outputs": [],
   "source": [
    "df_train = df_train.drop(['Guarantors','Foreign-Worker','No-of-dependents','Concurrent-Credits','Telephone'],axis = 1)\n"
   ]
  },
  {
   "cell_type": "code",
   "execution_count": 551,
   "metadata": {},
   "outputs": [
    {
     "data": {
      "text/html": [
       "<div>\n",
       "<style scoped>\n",
       "    .dataframe tbody tr th:only-of-type {\n",
       "        vertical-align: middle;\n",
       "    }\n",
       "\n",
       "    .dataframe tbody tr th {\n",
       "        vertical-align: top;\n",
       "    }\n",
       "\n",
       "    .dataframe thead th {\n",
       "        text-align: right;\n",
       "    }\n",
       "</style>\n",
       "<table border=\"1\" class=\"dataframe\">\n",
       "  <thead>\n",
       "    <tr style=\"text-align: right;\">\n",
       "      <th></th>\n",
       "      <th>Credit-Application-Result</th>\n",
       "      <th>Account-Balance</th>\n",
       "      <th>Duration-of-Credit-Month</th>\n",
       "      <th>Payment-Status-of-Previous-Credit</th>\n",
       "      <th>Purpose</th>\n",
       "      <th>Credit-Amount</th>\n",
       "      <th>Value-Savings-Stocks</th>\n",
       "      <th>Length-of-current-employment</th>\n",
       "      <th>Instalment-per-cent</th>\n",
       "      <th>Most-valuable-available-asset</th>\n",
       "      <th>Age-years</th>\n",
       "      <th>Type-of-apartment</th>\n",
       "      <th>No-of-Credits-at-this-Bank</th>\n",
       "      <th>Occupation</th>\n",
       "    </tr>\n",
       "  </thead>\n",
       "  <tbody>\n",
       "    <tr>\n",
       "      <th>0</th>\n",
       "      <td>Creditworthy</td>\n",
       "      <td>Some Balance</td>\n",
       "      <td>4</td>\n",
       "      <td>Paid Up</td>\n",
       "      <td>Other</td>\n",
       "      <td>1494</td>\n",
       "      <td>£100-£1000</td>\n",
       "      <td>&lt; 1yr</td>\n",
       "      <td>1</td>\n",
       "      <td>1</td>\n",
       "      <td>33.0</td>\n",
       "      <td>2</td>\n",
       "      <td>1</td>\n",
       "      <td>1</td>\n",
       "    </tr>\n",
       "    <tr>\n",
       "      <th>1</th>\n",
       "      <td>Creditworthy</td>\n",
       "      <td>Some Balance</td>\n",
       "      <td>4</td>\n",
       "      <td>Paid Up</td>\n",
       "      <td>Home Related</td>\n",
       "      <td>1494</td>\n",
       "      <td>£100-£1000</td>\n",
       "      <td>&lt; 1yr</td>\n",
       "      <td>1</td>\n",
       "      <td>1</td>\n",
       "      <td>29.0</td>\n",
       "      <td>2</td>\n",
       "      <td>1</td>\n",
       "      <td>1</td>\n",
       "    </tr>\n",
       "    <tr>\n",
       "      <th>2</th>\n",
       "      <td>Creditworthy</td>\n",
       "      <td>Some Balance</td>\n",
       "      <td>4</td>\n",
       "      <td>No Problems (in this bank)</td>\n",
       "      <td>Home Related</td>\n",
       "      <td>1544</td>\n",
       "      <td>None</td>\n",
       "      <td>1-4 yrs</td>\n",
       "      <td>2</td>\n",
       "      <td>1</td>\n",
       "      <td>42.0</td>\n",
       "      <td>2</td>\n",
       "      <td>More than 1</td>\n",
       "      <td>1</td>\n",
       "    </tr>\n",
       "    <tr>\n",
       "      <th>3</th>\n",
       "      <td>Creditworthy</td>\n",
       "      <td>Some Balance</td>\n",
       "      <td>4</td>\n",
       "      <td>No Problems (in this bank)</td>\n",
       "      <td>Home Related</td>\n",
       "      <td>3380</td>\n",
       "      <td>None</td>\n",
       "      <td>1-4 yrs</td>\n",
       "      <td>1</td>\n",
       "      <td>1</td>\n",
       "      <td>37.0</td>\n",
       "      <td>2</td>\n",
       "      <td>1</td>\n",
       "      <td>1</td>\n",
       "    </tr>\n",
       "    <tr>\n",
       "      <th>4</th>\n",
       "      <td>Creditworthy</td>\n",
       "      <td>No Account</td>\n",
       "      <td>6</td>\n",
       "      <td>Paid Up</td>\n",
       "      <td>Home Related</td>\n",
       "      <td>343</td>\n",
       "      <td>None</td>\n",
       "      <td>&lt; 1yr</td>\n",
       "      <td>4</td>\n",
       "      <td>1</td>\n",
       "      <td>27.0</td>\n",
       "      <td>2</td>\n",
       "      <td>1</td>\n",
       "      <td>1</td>\n",
       "    </tr>\n",
       "  </tbody>\n",
       "</table>\n",
       "</div>"
      ],
      "text/plain": [
       "  Credit-Application-Result Account-Balance  Duration-of-Credit-Month  \\\n",
       "0              Creditworthy    Some Balance                         4   \n",
       "1              Creditworthy    Some Balance                         4   \n",
       "2              Creditworthy    Some Balance                         4   \n",
       "3              Creditworthy    Some Balance                         4   \n",
       "4              Creditworthy      No Account                         6   \n",
       "\n",
       "  Payment-Status-of-Previous-Credit       Purpose  Credit-Amount  \\\n",
       "0                           Paid Up         Other           1494   \n",
       "1                           Paid Up  Home Related           1494   \n",
       "2        No Problems (in this bank)  Home Related           1544   \n",
       "3        No Problems (in this bank)  Home Related           3380   \n",
       "4                           Paid Up  Home Related            343   \n",
       "\n",
       "  Value-Savings-Stocks Length-of-current-employment  Instalment-per-cent  \\\n",
       "0           £100-£1000                        < 1yr                    1   \n",
       "1           £100-£1000                        < 1yr                    1   \n",
       "2                 None                      1-4 yrs                    2   \n",
       "3                 None                      1-4 yrs                    1   \n",
       "4                 None                        < 1yr                    4   \n",
       "\n",
       "   Most-valuable-available-asset  Age-years  Type-of-apartment  \\\n",
       "0                              1       33.0                  2   \n",
       "1                              1       29.0                  2   \n",
       "2                              1       42.0                  2   \n",
       "3                              1       37.0                  2   \n",
       "4                              1       27.0                  2   \n",
       "\n",
       "  No-of-Credits-at-this-Bank  Occupation  \n",
       "0                          1           1  \n",
       "1                          1           1  \n",
       "2                More than 1           1  \n",
       "3                          1           1  \n",
       "4                          1           1  "
      ]
     },
     "execution_count": 551,
     "metadata": {},
     "output_type": "execute_result"
    }
   ],
   "source": [
    "df_train.head()"
   ]
  },
  {
   "cell_type": "markdown",
   "metadata": {},
   "source": [
    "I found some low-Variability variables: Concurrent Credit, Guarantors, Foreign Worker, No of dependents.\n",
    "I also exclude Telephone, because it is unrelated to our analysis."
   ]
  },
  {
   "cell_type": "code",
   "execution_count": 552,
   "metadata": {},
   "outputs": [
    {
     "data": {
      "text/plain": [
       "Creditworthy        358\n",
       "Non-Creditworthy    142\n",
       "Name: Credit-Application-Result, dtype: int64"
      ]
     },
     "execution_count": 552,
     "metadata": {},
     "output_type": "execute_result"
    }
   ],
   "source": [
    "df_train['Credit-Application-Result'].value_counts()"
   ]
  },
  {
   "cell_type": "code",
   "execution_count": 553,
   "metadata": {},
   "outputs": [
    {
     "data": {
      "text/html": [
       "<div>\n",
       "<style scoped>\n",
       "    .dataframe tbody tr th:only-of-type {\n",
       "        vertical-align: middle;\n",
       "    }\n",
       "\n",
       "    .dataframe tbody tr th {\n",
       "        vertical-align: top;\n",
       "    }\n",
       "\n",
       "    .dataframe thead th {\n",
       "        text-align: right;\n",
       "    }\n",
       "</style>\n",
       "<table border=\"1\" class=\"dataframe\">\n",
       "  <thead>\n",
       "    <tr style=\"text-align: right;\">\n",
       "      <th></th>\n",
       "      <th>Credit-Application-Result</th>\n",
       "      <th>Account-Balance</th>\n",
       "      <th>Duration-of-Credit-Month</th>\n",
       "      <th>Payment-Status-of-Previous-Credit</th>\n",
       "      <th>Purpose</th>\n",
       "      <th>Credit-Amount</th>\n",
       "      <th>Value-Savings-Stocks</th>\n",
       "      <th>Length-of-current-employment</th>\n",
       "      <th>Instalment-per-cent</th>\n",
       "      <th>Most-valuable-available-asset</th>\n",
       "      <th>Age-years</th>\n",
       "      <th>Type-of-apartment</th>\n",
       "      <th>No-of-Credits-at-this-Bank</th>\n",
       "      <th>Occupation</th>\n",
       "    </tr>\n",
       "  </thead>\n",
       "  <tbody>\n",
       "    <tr>\n",
       "      <th>0</th>\n",
       "      <td>1</td>\n",
       "      <td>Some Balance</td>\n",
       "      <td>4</td>\n",
       "      <td>Paid Up</td>\n",
       "      <td>Other</td>\n",
       "      <td>1494</td>\n",
       "      <td>£100-£1000</td>\n",
       "      <td>&lt; 1yr</td>\n",
       "      <td>1</td>\n",
       "      <td>1</td>\n",
       "      <td>33.0</td>\n",
       "      <td>2</td>\n",
       "      <td>1</td>\n",
       "      <td>1</td>\n",
       "    </tr>\n",
       "    <tr>\n",
       "      <th>1</th>\n",
       "      <td>1</td>\n",
       "      <td>Some Balance</td>\n",
       "      <td>4</td>\n",
       "      <td>Paid Up</td>\n",
       "      <td>Home Related</td>\n",
       "      <td>1494</td>\n",
       "      <td>£100-£1000</td>\n",
       "      <td>&lt; 1yr</td>\n",
       "      <td>1</td>\n",
       "      <td>1</td>\n",
       "      <td>29.0</td>\n",
       "      <td>2</td>\n",
       "      <td>1</td>\n",
       "      <td>1</td>\n",
       "    </tr>\n",
       "    <tr>\n",
       "      <th>2</th>\n",
       "      <td>1</td>\n",
       "      <td>Some Balance</td>\n",
       "      <td>4</td>\n",
       "      <td>No Problems (in this bank)</td>\n",
       "      <td>Home Related</td>\n",
       "      <td>1544</td>\n",
       "      <td>None</td>\n",
       "      <td>1-4 yrs</td>\n",
       "      <td>2</td>\n",
       "      <td>1</td>\n",
       "      <td>42.0</td>\n",
       "      <td>2</td>\n",
       "      <td>More than 1</td>\n",
       "      <td>1</td>\n",
       "    </tr>\n",
       "    <tr>\n",
       "      <th>3</th>\n",
       "      <td>1</td>\n",
       "      <td>Some Balance</td>\n",
       "      <td>4</td>\n",
       "      <td>No Problems (in this bank)</td>\n",
       "      <td>Home Related</td>\n",
       "      <td>3380</td>\n",
       "      <td>None</td>\n",
       "      <td>1-4 yrs</td>\n",
       "      <td>1</td>\n",
       "      <td>1</td>\n",
       "      <td>37.0</td>\n",
       "      <td>2</td>\n",
       "      <td>1</td>\n",
       "      <td>1</td>\n",
       "    </tr>\n",
       "    <tr>\n",
       "      <th>4</th>\n",
       "      <td>1</td>\n",
       "      <td>No Account</td>\n",
       "      <td>6</td>\n",
       "      <td>Paid Up</td>\n",
       "      <td>Home Related</td>\n",
       "      <td>343</td>\n",
       "      <td>None</td>\n",
       "      <td>&lt; 1yr</td>\n",
       "      <td>4</td>\n",
       "      <td>1</td>\n",
       "      <td>27.0</td>\n",
       "      <td>2</td>\n",
       "      <td>1</td>\n",
       "      <td>1</td>\n",
       "    </tr>\n",
       "  </tbody>\n",
       "</table>\n",
       "</div>"
      ],
      "text/plain": [
       "  Credit-Application-Result Account-Balance  Duration-of-Credit-Month  \\\n",
       "0                         1    Some Balance                         4   \n",
       "1                         1    Some Balance                         4   \n",
       "2                         1    Some Balance                         4   \n",
       "3                         1    Some Balance                         4   \n",
       "4                         1      No Account                         6   \n",
       "\n",
       "  Payment-Status-of-Previous-Credit       Purpose  Credit-Amount  \\\n",
       "0                           Paid Up         Other           1494   \n",
       "1                           Paid Up  Home Related           1494   \n",
       "2        No Problems (in this bank)  Home Related           1544   \n",
       "3        No Problems (in this bank)  Home Related           3380   \n",
       "4                           Paid Up  Home Related            343   \n",
       "\n",
       "  Value-Savings-Stocks Length-of-current-employment  Instalment-per-cent  \\\n",
       "0           £100-£1000                        < 1yr                    1   \n",
       "1           £100-£1000                        < 1yr                    1   \n",
       "2                 None                      1-4 yrs                    2   \n",
       "3                 None                      1-4 yrs                    1   \n",
       "4                 None                        < 1yr                    4   \n",
       "\n",
       "   Most-valuable-available-asset  Age-years  Type-of-apartment  \\\n",
       "0                              1       33.0                  2   \n",
       "1                              1       29.0                  2   \n",
       "2                              1       42.0                  2   \n",
       "3                              1       37.0                  2   \n",
       "4                              1       27.0                  2   \n",
       "\n",
       "  No-of-Credits-at-this-Bank  Occupation  \n",
       "0                          1           1  \n",
       "1                          1           1  \n",
       "2                More than 1           1  \n",
       "3                          1           1  \n",
       "4                          1           1  "
      ]
     },
     "execution_count": 553,
     "metadata": {},
     "output_type": "execute_result"
    }
   ],
   "source": [
    "for index, row in df_train.iterrows():\n",
    "    if row['Credit-Application-Result'] == \"Creditworthy\":\n",
    "        value = 1\n",
    "    else:\n",
    "        value = 0\n",
    "  \n",
    "        \n",
    "    df_train.at[index,'Credit-Application-Result'] = value\n",
    "    \n",
    "\n",
    "df_train.head()"
   ]
  },
  {
   "cell_type": "code",
   "execution_count": 554,
   "metadata": {},
   "outputs": [
    {
     "data": {
      "text/plain": [
       "1    358\n",
       "0    142\n",
       "Name: Credit-Application-Result, dtype: int64"
      ]
     },
     "execution_count": 554,
     "metadata": {},
     "output_type": "execute_result"
    }
   ],
   "source": [
    "df_train['Credit-Application-Result'].value_counts()"
   ]
  },
  {
   "cell_type": "code",
   "execution_count": 555,
   "metadata": {},
   "outputs": [],
   "source": [
    "df_train['Credit-Application-Result'] = df_train['Credit-Application-Result'].astype('int')"
   ]
  },
  {
   "cell_type": "code",
   "execution_count": 556,
   "metadata": {},
   "outputs": [
    {
     "data": {
      "text/plain": [
       "dtype('int64')"
      ]
     },
     "execution_count": 556,
     "metadata": {},
     "output_type": "execute_result"
    }
   ],
   "source": [
    "df_train['Credit-Application-Result'].dtype\n"
   ]
  },
  {
   "cell_type": "code",
   "execution_count": 557,
   "metadata": {},
   "outputs": [],
   "source": [
    "df_test = pd.read_excel('customers-to-score.xlsx')"
   ]
  },
  {
   "cell_type": "code",
   "execution_count": 558,
   "metadata": {},
   "outputs": [],
   "source": [
    "# Get list of categorical variables\n",
    "object_cols = [col for col in df_train.columns if df_train[col].dtype == \"object\"]\n"
   ]
  },
  {
   "cell_type": "code",
   "execution_count": 559,
   "metadata": {},
   "outputs": [
    {
     "name": "stdout",
     "output_type": "stream",
     "text": [
      "Categorical columns that will be one-hot encoded: ['Account-Balance', 'Payment-Status-of-Previous-Credit', 'Purpose', 'Value-Savings-Stocks', 'Length-of-current-employment', 'No-of-Credits-at-this-Bank']\n"
     ]
    }
   ],
   "source": [
    "low_cardinality_cols = [col for col in object_cols if df_train[col].nunique() < 10]\n",
    "print('Categorical columns that will be one-hot encoded:', low_cardinality_cols)"
   ]
  },
  {
   "cell_type": "code",
   "execution_count": 560,
   "metadata": {},
   "outputs": [
    {
     "data": {
      "text/plain": [
       "Credit-Application-Result             True\n",
       "Account-Balance                      False\n",
       "Duration-of-Credit-Month             False\n",
       "Payment-Status-of-Previous-Credit    False\n",
       "Purpose                              False\n",
       "Credit-Amount                        False\n",
       "Value-Savings-Stocks                 False\n",
       "Length-of-current-employment         False\n",
       "Instalment-per-cent                  False\n",
       "Most-valuable-available-asset        False\n",
       "Age-years                            False\n",
       "Type-of-apartment                    False\n",
       "No-of-Credits-at-this-Bank           False\n",
       "Occupation                           False\n",
       "label                                False\n",
       "dtype: bool"
      ]
     },
     "execution_count": 560,
     "metadata": {},
     "output_type": "execute_result"
    }
   ],
   "source": [
    "df_train['label'] = 'train'\n",
    "df_test['label'] = 'test'\n",
    "# Concat\n",
    "concat_df = pd.concat([df_train, df_test])\n",
    "concat_df.drop(['Guarantors','Foreign-Worker','No-of-dependents','Concurrent-Credits','Telephone','Duration-in-Current-address'],axis = 1,inplace = True)\n",
    "concat_df.isnull().any()"
   ]
  },
  {
   "cell_type": "code",
   "execution_count": 561,
   "metadata": {},
   "outputs": [],
   "source": [
    "# Create your dummies\n",
    "OH_encoder = OneHotEncoder(handle_unknown='ignore', sparse=False)\n",
    "OH_cols_test = pd.DataFrame(OH_encoder.fit_transform(concat_df[low_cardinality_cols])) # Your code here\n",
    "\n",
    "# One-hot encoding removed index; put it back\n",
    "OH_cols_test.index = concat_df.index\n",
    "\n",
    "# Remove categorical columns (will replace with one-hot encoding)\n",
    "num_X_test = concat_df.drop(object_cols, axis=1)\n",
    "\n",
    "# Add one-hot encoded columns to numerical features\n",
    "OH_X_test = pd.concat([num_X_test, OH_cols_test], axis=1)"
   ]
  },
  {
   "cell_type": "code",
   "execution_count": 562,
   "metadata": {},
   "outputs": [
    {
     "data": {
      "text/html": [
       "<div>\n",
       "<style scoped>\n",
       "    .dataframe tbody tr th:only-of-type {\n",
       "        vertical-align: middle;\n",
       "    }\n",
       "\n",
       "    .dataframe tbody tr th {\n",
       "        vertical-align: top;\n",
       "    }\n",
       "\n",
       "    .dataframe thead th {\n",
       "        text-align: right;\n",
       "    }\n",
       "</style>\n",
       "<table border=\"1\" class=\"dataframe\">\n",
       "  <thead>\n",
       "    <tr style=\"text-align: right;\">\n",
       "      <th></th>\n",
       "      <th>Credit-Application-Result</th>\n",
       "      <th>Duration-of-Credit-Month</th>\n",
       "      <th>Credit-Amount</th>\n",
       "      <th>Instalment-per-cent</th>\n",
       "      <th>Most-valuable-available-asset</th>\n",
       "      <th>Age-years</th>\n",
       "      <th>Type-of-apartment</th>\n",
       "      <th>Occupation</th>\n",
       "      <th>label</th>\n",
       "      <th>0</th>\n",
       "      <th>...</th>\n",
       "      <th>7</th>\n",
       "      <th>8</th>\n",
       "      <th>9</th>\n",
       "      <th>10</th>\n",
       "      <th>11</th>\n",
       "      <th>12</th>\n",
       "      <th>13</th>\n",
       "      <th>14</th>\n",
       "      <th>15</th>\n",
       "      <th>16</th>\n",
       "    </tr>\n",
       "  </thead>\n",
       "  <tbody>\n",
       "    <tr>\n",
       "      <th>0</th>\n",
       "      <td>1.0</td>\n",
       "      <td>4</td>\n",
       "      <td>1494</td>\n",
       "      <td>1</td>\n",
       "      <td>1</td>\n",
       "      <td>33.0</td>\n",
       "      <td>2</td>\n",
       "      <td>1</td>\n",
       "      <td>train</td>\n",
       "      <td>0.0</td>\n",
       "      <td>...</td>\n",
       "      <td>1.0</td>\n",
       "      <td>0.0</td>\n",
       "      <td>0.0</td>\n",
       "      <td>0.0</td>\n",
       "      <td>1.0</td>\n",
       "      <td>0.0</td>\n",
       "      <td>0.0</td>\n",
       "      <td>1.0</td>\n",
       "      <td>1.0</td>\n",
       "      <td>0.0</td>\n",
       "    </tr>\n",
       "    <tr>\n",
       "      <th>1</th>\n",
       "      <td>1.0</td>\n",
       "      <td>4</td>\n",
       "      <td>1494</td>\n",
       "      <td>1</td>\n",
       "      <td>1</td>\n",
       "      <td>29.0</td>\n",
       "      <td>2</td>\n",
       "      <td>1</td>\n",
       "      <td>train</td>\n",
       "      <td>0.0</td>\n",
       "      <td>...</td>\n",
       "      <td>0.0</td>\n",
       "      <td>0.0</td>\n",
       "      <td>0.0</td>\n",
       "      <td>0.0</td>\n",
       "      <td>1.0</td>\n",
       "      <td>0.0</td>\n",
       "      <td>0.0</td>\n",
       "      <td>1.0</td>\n",
       "      <td>1.0</td>\n",
       "      <td>0.0</td>\n",
       "    </tr>\n",
       "    <tr>\n",
       "      <th>2</th>\n",
       "      <td>1.0</td>\n",
       "      <td>4</td>\n",
       "      <td>1544</td>\n",
       "      <td>2</td>\n",
       "      <td>1</td>\n",
       "      <td>42.0</td>\n",
       "      <td>2</td>\n",
       "      <td>1</td>\n",
       "      <td>train</td>\n",
       "      <td>0.0</td>\n",
       "      <td>...</td>\n",
       "      <td>0.0</td>\n",
       "      <td>0.0</td>\n",
       "      <td>0.0</td>\n",
       "      <td>1.0</td>\n",
       "      <td>0.0</td>\n",
       "      <td>1.0</td>\n",
       "      <td>0.0</td>\n",
       "      <td>0.0</td>\n",
       "      <td>0.0</td>\n",
       "      <td>1.0</td>\n",
       "    </tr>\n",
       "    <tr>\n",
       "      <th>3</th>\n",
       "      <td>1.0</td>\n",
       "      <td>4</td>\n",
       "      <td>3380</td>\n",
       "      <td>1</td>\n",
       "      <td>1</td>\n",
       "      <td>37.0</td>\n",
       "      <td>2</td>\n",
       "      <td>1</td>\n",
       "      <td>train</td>\n",
       "      <td>0.0</td>\n",
       "      <td>...</td>\n",
       "      <td>0.0</td>\n",
       "      <td>0.0</td>\n",
       "      <td>0.0</td>\n",
       "      <td>1.0</td>\n",
       "      <td>0.0</td>\n",
       "      <td>1.0</td>\n",
       "      <td>0.0</td>\n",
       "      <td>0.0</td>\n",
       "      <td>1.0</td>\n",
       "      <td>0.0</td>\n",
       "    </tr>\n",
       "    <tr>\n",
       "      <th>4</th>\n",
       "      <td>1.0</td>\n",
       "      <td>6</td>\n",
       "      <td>343</td>\n",
       "      <td>4</td>\n",
       "      <td>1</td>\n",
       "      <td>27.0</td>\n",
       "      <td>2</td>\n",
       "      <td>1</td>\n",
       "      <td>train</td>\n",
       "      <td>1.0</td>\n",
       "      <td>...</td>\n",
       "      <td>0.0</td>\n",
       "      <td>0.0</td>\n",
       "      <td>0.0</td>\n",
       "      <td>1.0</td>\n",
       "      <td>0.0</td>\n",
       "      <td>0.0</td>\n",
       "      <td>0.0</td>\n",
       "      <td>1.0</td>\n",
       "      <td>1.0</td>\n",
       "      <td>0.0</td>\n",
       "    </tr>\n",
       "  </tbody>\n",
       "</table>\n",
       "<p>5 rows × 26 columns</p>\n",
       "</div>"
      ],
      "text/plain": [
       "   Credit-Application-Result  Duration-of-Credit-Month  Credit-Amount  \\\n",
       "0                        1.0                         4           1494   \n",
       "1                        1.0                         4           1494   \n",
       "2                        1.0                         4           1544   \n",
       "3                        1.0                         4           3380   \n",
       "4                        1.0                         6            343   \n",
       "\n",
       "   Instalment-per-cent  Most-valuable-available-asset  Age-years  \\\n",
       "0                    1                              1       33.0   \n",
       "1                    1                              1       29.0   \n",
       "2                    2                              1       42.0   \n",
       "3                    1                              1       37.0   \n",
       "4                    4                              1       27.0   \n",
       "\n",
       "   Type-of-apartment  Occupation  label    0  ...    7    8    9   10   11  \\\n",
       "0                  2           1  train  0.0  ...  1.0  0.0  0.0  0.0  1.0   \n",
       "1                  2           1  train  0.0  ...  0.0  0.0  0.0  0.0  1.0   \n",
       "2                  2           1  train  0.0  ...  0.0  0.0  0.0  1.0  0.0   \n",
       "3                  2           1  train  0.0  ...  0.0  0.0  0.0  1.0  0.0   \n",
       "4                  2           1  train  1.0  ...  0.0  0.0  0.0  1.0  0.0   \n",
       "\n",
       "    12   13   14   15   16  \n",
       "0  0.0  0.0  1.0  1.0  0.0  \n",
       "1  0.0  0.0  1.0  1.0  0.0  \n",
       "2  1.0  0.0  0.0  0.0  1.0  \n",
       "3  1.0  0.0  0.0  1.0  0.0  \n",
       "4  0.0  0.0  1.0  1.0  0.0  \n",
       "\n",
       "[5 rows x 26 columns]"
      ]
     },
     "execution_count": 562,
     "metadata": {},
     "output_type": "execute_result"
    }
   ],
   "source": [
    "OH_X_test.head()"
   ]
  },
  {
   "cell_type": "code",
   "execution_count": 563,
   "metadata": {},
   "outputs": [
    {
     "name": "stdout",
     "output_type": "stream",
     "text": [
      "<class 'pandas.core.frame.DataFrame'>\n",
      "Int64Index: 1000 entries, 0 to 499\n",
      "Data columns (total 26 columns):\n",
      " #   Column                         Non-Null Count  Dtype  \n",
      "---  ------                         --------------  -----  \n",
      " 0   Credit-Application-Result      500 non-null    float64\n",
      " 1   Duration-of-Credit-Month       1000 non-null   int64  \n",
      " 2   Credit-Amount                  1000 non-null   int64  \n",
      " 3   Instalment-per-cent            1000 non-null   int64  \n",
      " 4   Most-valuable-available-asset  1000 non-null   int64  \n",
      " 5   Age-years                      1000 non-null   float64\n",
      " 6   Type-of-apartment              1000 non-null   int64  \n",
      " 7   Occupation                     1000 non-null   int64  \n",
      " 8   label                          1000 non-null   object \n",
      " 9   0                              1000 non-null   float64\n",
      " 10  1                              1000 non-null   float64\n",
      " 11  2                              1000 non-null   float64\n",
      " 12  3                              1000 non-null   float64\n",
      " 13  4                              1000 non-null   float64\n",
      " 14  5                              1000 non-null   float64\n",
      " 15  6                              1000 non-null   float64\n",
      " 16  7                              1000 non-null   float64\n",
      " 17  8                              1000 non-null   float64\n",
      " 18  9                              1000 non-null   float64\n",
      " 19  10                             1000 non-null   float64\n",
      " 20  11                             1000 non-null   float64\n",
      " 21  12                             1000 non-null   float64\n",
      " 22  13                             1000 non-null   float64\n",
      " 23  14                             1000 non-null   float64\n",
      " 24  15                             1000 non-null   float64\n",
      " 25  16                             1000 non-null   float64\n",
      "dtypes: float64(19), int64(6), object(1)\n",
      "memory usage: 210.9+ KB\n"
     ]
    }
   ],
   "source": [
    "OH_X_test.info()"
   ]
  },
  {
   "cell_type": "code",
   "execution_count": 564,
   "metadata": {},
   "outputs": [],
   "source": [
    "# Split your data\n",
    "df_train = OH_X_test[OH_X_test['label'] == 'train']\n",
    "df_test = OH_X_test[OH_X_test['label'] == 'test']\n",
    "\n",
    "# Drop your labels\n",
    "df_train = df_train.drop('label', axis=1)\n",
    "df_test = df_test.drop('label', axis=1)"
   ]
  },
  {
   "cell_type": "code",
   "execution_count": 565,
   "metadata": {},
   "outputs": [
    {
     "name": "stdout",
     "output_type": "stream",
     "text": [
      "<class 'pandas.core.frame.DataFrame'>\n",
      "Int64Index: 500 entries, 0 to 499\n",
      "Data columns (total 25 columns):\n",
      " #   Column                         Non-Null Count  Dtype  \n",
      "---  ------                         --------------  -----  \n",
      " 0   Credit-Application-Result      500 non-null    float64\n",
      " 1   Duration-of-Credit-Month       500 non-null    int64  \n",
      " 2   Credit-Amount                  500 non-null    int64  \n",
      " 3   Instalment-per-cent            500 non-null    int64  \n",
      " 4   Most-valuable-available-asset  500 non-null    int64  \n",
      " 5   Age-years                      500 non-null    float64\n",
      " 6   Type-of-apartment              500 non-null    int64  \n",
      " 7   Occupation                     500 non-null    int64  \n",
      " 8   0                              500 non-null    float64\n",
      " 9   1                              500 non-null    float64\n",
      " 10  2                              500 non-null    float64\n",
      " 11  3                              500 non-null    float64\n",
      " 12  4                              500 non-null    float64\n",
      " 13  5                              500 non-null    float64\n",
      " 14  6                              500 non-null    float64\n",
      " 15  7                              500 non-null    float64\n",
      " 16  8                              500 non-null    float64\n",
      " 17  9                              500 non-null    float64\n",
      " 18  10                             500 non-null    float64\n",
      " 19  11                             500 non-null    float64\n",
      " 20  12                             500 non-null    float64\n",
      " 21  13                             500 non-null    float64\n",
      " 22  14                             500 non-null    float64\n",
      " 23  15                             500 non-null    float64\n",
      " 24  16                             500 non-null    float64\n",
      "dtypes: float64(19), int64(6)\n",
      "memory usage: 101.6 KB\n"
     ]
    }
   ],
   "source": [
    "df_train.info()"
   ]
  },
  {
   "cell_type": "code",
   "execution_count": 566,
   "metadata": {},
   "outputs": [],
   "source": [
    "y = df_train['Credit-Application-Result']\n",
    "# Create X\n",
    "# features = ['Account-Balance', 'Duration-of-Credit-Month', 'Payment-Status-of-Previous-Credit', 'Purpose', 'Credit-Amount', 'Value-Savings-Stocks', 'Length-of-current-employment','Instalment-per-cent','Most-valuable-available-asset','Age-years','Type-of-apartment','No-of-Credits-at-this-Bank','Occupation']\n",
    "features = []\n",
    "for col in df_train.columns:\n",
    "    if ('Credit-Application-Result' not in str(col)):\n",
    "        features.append(col)\n",
    "        \n",
    "X = df_train[features]\n",
    "\n",
    "# Split into validation and training data\n",
    "train_X, val_X, train_y, val_y = train_test_split(X, y, random_state=1)"
   ]
  },
  {
   "cell_type": "markdown",
   "metadata": {},
   "source": [
    "### Random Forest Model"
   ]
  },
  {
   "cell_type": "code",
   "execution_count": 567,
   "metadata": {},
   "outputs": [],
   "source": [
    "from sklearn.ensemble import RandomForestClassifier\n",
    "model = RandomForestClassifier(n_estimators=500,min_samples_leaf=5,min_samples_split = 5,criterion='entropy',bootstrap = True,random_state =2)\n",
    "model.fit(train_X, train_y)\n",
    "rf_predictions = model.predict(val_X)"
   ]
  },
  {
   "cell_type": "code",
   "execution_count": 568,
   "metadata": {},
   "outputs": [
    {
     "data": {
      "text/plain": [
       "0.6897058823529412"
      ]
     },
     "execution_count": 568,
     "metadata": {},
     "output_type": "execute_result"
    }
   ],
   "source": [
    "from sklearn.metrics import roc_auc_score\n",
    "roc_value = roc_auc_score(val_y, rf_predictions)\n",
    "roc_value"
   ]
  },
  {
   "cell_type": "code",
   "execution_count": 569,
   "metadata": {},
   "outputs": [
    {
     "data": {
      "text/plain": [
       "array([[18, 22],\n",
       "       [ 6, 79]])"
      ]
     },
     "execution_count": 569,
     "metadata": {},
     "output_type": "execute_result"
    }
   ],
   "source": [
    "# Confusion Matrix\n",
    "from sklearn.metrics import confusion_matrix\n",
    "confusion_matrix = confusion_matrix(val_y, rf_predictions)\n",
    "confusion_matrix"
   ]
  },
  {
   "cell_type": "code",
   "execution_count": 570,
   "metadata": {},
   "outputs": [
    {
     "data": {
      "text/plain": [
       "0.776"
      ]
     },
     "execution_count": 570,
     "metadata": {},
     "output_type": "execute_result"
    }
   ],
   "source": [
    "from sklearn.metrics import accuracy_score\n",
    "accuracy_score(val_y, rf_predictions)"
   ]
  },
  {
   "cell_type": "code",
   "execution_count": 571,
   "metadata": {},
   "outputs": [
    {
     "data": {
      "text/plain": [
       "0.7821782178217822"
      ]
     },
     "execution_count": 571,
     "metadata": {},
     "output_type": "execute_result"
    }
   ],
   "source": [
    "#precision\n",
    "from sklearn.metrics import precision_score\n",
    "precision_score(val_y, rf_predictions)"
   ]
  },
  {
   "cell_type": "code",
   "execution_count": 572,
   "metadata": {},
   "outputs": [
    {
     "data": {
      "text/plain": [
       "0.9294117647058824"
      ]
     },
     "execution_count": 572,
     "metadata": {},
     "output_type": "execute_result"
    }
   ],
   "source": [
    "#recall score\n",
    "from sklearn.metrics import recall_score\n",
    "recall_score(val_y, rf_predictions)"
   ]
  },
  {
   "cell_type": "code",
   "execution_count": 573,
   "metadata": {},
   "outputs": [
    {
     "data": {
      "text/plain": [
       "0.8494623655913979"
      ]
     },
     "execution_count": 573,
     "metadata": {},
     "output_type": "execute_result"
    }
   ],
   "source": [
    "from sklearn.metrics import f1_score\n",
    "f1_score(val_y, rf_predictions)"
   ]
  },
  {
   "cell_type": "markdown",
   "metadata": {},
   "source": [
    "### Boosted Model"
   ]
  },
  {
   "cell_type": "code",
   "execution_count": 574,
   "metadata": {},
   "outputs": [],
   "source": [
    "from sklearn.metrics import classification_report, confusion_matrix\n",
    "from sklearn.ensemble import GradientBoostingClassifier"
   ]
  },
  {
   "cell_type": "code",
   "execution_count": 575,
   "metadata": {},
   "outputs": [],
   "source": [
    "gb_clf2 = GradientBoostingClassifier(n_estimators=500, learning_rate=0.5, max_features=2, max_depth=2, random_state=2)\n",
    "gb_clf2.fit(train_X, train_y)\n",
    "predictions_GB = gb_clf2.predict(val_X)\n"
   ]
  },
  {
   "cell_type": "code",
   "execution_count": 576,
   "metadata": {},
   "outputs": [
    {
     "name": "stdout",
     "output_type": "stream",
     "text": [
      "[[20 20]\n",
      " [15 70]]\n"
     ]
    }
   ],
   "source": [
    "print(confusion_matrix(val_y, predictions_GB))"
   ]
  },
  {
   "cell_type": "code",
   "execution_count": 577,
   "metadata": {},
   "outputs": [
    {
     "name": "stdout",
     "output_type": "stream",
     "text": [
      "              precision    recall  f1-score   support\n",
      "\n",
      "         0.0       0.57      0.50      0.53        40\n",
      "         1.0       0.78      0.82      0.80        85\n",
      "\n",
      "    accuracy                           0.72       125\n",
      "   macro avg       0.67      0.66      0.67       125\n",
      "weighted avg       0.71      0.72      0.71       125\n",
      "\n"
     ]
    }
   ],
   "source": [
    "print(classification_report(val_y, predictions_GB))"
   ]
  },
  {
   "cell_type": "code",
   "execution_count": 578,
   "metadata": {},
   "outputs": [
    {
     "data": {
      "text/plain": [
       "0.72"
      ]
     },
     "execution_count": 578,
     "metadata": {},
     "output_type": "execute_result"
    }
   ],
   "source": [
    "from sklearn.metrics import accuracy_score\n",
    "accuracy_score(val_y, predictions_GB)"
   ]
  },
  {
   "cell_type": "code",
   "execution_count": 579,
   "metadata": {},
   "outputs": [
    {
     "data": {
      "text/plain": [
       "0.8235294117647058"
      ]
     },
     "execution_count": 579,
     "metadata": {},
     "output_type": "execute_result"
    }
   ],
   "source": [
    "#recall score\n",
    "from sklearn.metrics import recall_score\n",
    "recall_score(val_y, predictions_GB)"
   ]
  },
  {
   "cell_type": "markdown",
   "metadata": {},
   "source": [
    "### Model Comparsion\n",
    "Compare boosted model to Random Forest, Random Forest has higher accuarcy, especially for predicting creditworthy part. Because the boss only cares about how accurate you can identify people who qualify, so FM model qualifies."
   ]
  },
  {
   "cell_type": "markdown",
   "metadata": {},
   "source": [
    "### Prediction"
   ]
  },
  {
   "cell_type": "code",
   "execution_count": 580,
   "metadata": {},
   "outputs": [],
   "source": [
    "df_test.drop(['Credit-Application-Result'],axis = 1,inplace = True)"
   ]
  },
  {
   "cell_type": "code",
   "execution_count": 581,
   "metadata": {},
   "outputs": [],
   "source": [
    "preds_n = model.predict(df_test)"
   ]
  },
  {
   "cell_type": "code",
   "execution_count": 582,
   "metadata": {},
   "outputs": [],
   "source": [
    "df_test['credit'] = pd.Series(preds_n)"
   ]
  },
  {
   "cell_type": "code",
   "execution_count": 583,
   "metadata": {},
   "outputs": [],
   "source": [
    "df_test.drop([0,1,2,3,4,5,6,7,8,9,10,11,12,13,14,15,16],axis = 1,inplace = True)"
   ]
  },
  {
   "cell_type": "code",
   "execution_count": 584,
   "metadata": {},
   "outputs": [
    {
     "data": {
      "text/html": [
       "<div>\n",
       "<style scoped>\n",
       "    .dataframe tbody tr th:only-of-type {\n",
       "        vertical-align: middle;\n",
       "    }\n",
       "\n",
       "    .dataframe tbody tr th {\n",
       "        vertical-align: top;\n",
       "    }\n",
       "\n",
       "    .dataframe thead th {\n",
       "        text-align: right;\n",
       "    }\n",
       "</style>\n",
       "<table border=\"1\" class=\"dataframe\">\n",
       "  <thead>\n",
       "    <tr style=\"text-align: right;\">\n",
       "      <th></th>\n",
       "      <th>Duration-of-Credit-Month</th>\n",
       "      <th>Credit-Amount</th>\n",
       "      <th>Instalment-per-cent</th>\n",
       "      <th>Most-valuable-available-asset</th>\n",
       "      <th>Age-years</th>\n",
       "      <th>Type-of-apartment</th>\n",
       "      <th>Occupation</th>\n",
       "      <th>credit</th>\n",
       "    </tr>\n",
       "  </thead>\n",
       "  <tbody>\n",
       "    <tr>\n",
       "      <th>0</th>\n",
       "      <td>9</td>\n",
       "      <td>2799</td>\n",
       "      <td>2</td>\n",
       "      <td>1</td>\n",
       "      <td>36.0</td>\n",
       "      <td>1</td>\n",
       "      <td>1</td>\n",
       "      <td>1.0</td>\n",
       "    </tr>\n",
       "    <tr>\n",
       "      <th>1</th>\n",
       "      <td>12</td>\n",
       "      <td>2122</td>\n",
       "      <td>3</td>\n",
       "      <td>1</td>\n",
       "      <td>39.0</td>\n",
       "      <td>1</td>\n",
       "      <td>1</td>\n",
       "      <td>1.0</td>\n",
       "    </tr>\n",
       "    <tr>\n",
       "      <th>2</th>\n",
       "      <td>24</td>\n",
       "      <td>3758</td>\n",
       "      <td>1</td>\n",
       "      <td>4</td>\n",
       "      <td>23.0</td>\n",
       "      <td>1</td>\n",
       "      <td>1</td>\n",
       "      <td>1.0</td>\n",
       "    </tr>\n",
       "    <tr>\n",
       "      <th>3</th>\n",
       "      <td>11</td>\n",
       "      <td>3905</td>\n",
       "      <td>2</td>\n",
       "      <td>1</td>\n",
       "      <td>36.0</td>\n",
       "      <td>1</td>\n",
       "      <td>1</td>\n",
       "      <td>1.0</td>\n",
       "    </tr>\n",
       "    <tr>\n",
       "      <th>4</th>\n",
       "      <td>6</td>\n",
       "      <td>1957</td>\n",
       "      <td>1</td>\n",
       "      <td>3</td>\n",
       "      <td>31.0</td>\n",
       "      <td>2</td>\n",
       "      <td>1</td>\n",
       "      <td>1.0</td>\n",
       "    </tr>\n",
       "    <tr>\n",
       "      <th>...</th>\n",
       "      <td>...</td>\n",
       "      <td>...</td>\n",
       "      <td>...</td>\n",
       "      <td>...</td>\n",
       "      <td>...</td>\n",
       "      <td>...</td>\n",
       "      <td>...</td>\n",
       "      <td>...</td>\n",
       "    </tr>\n",
       "    <tr>\n",
       "      <th>495</th>\n",
       "      <td>18</td>\n",
       "      <td>3966</td>\n",
       "      <td>1</td>\n",
       "      <td>1</td>\n",
       "      <td>33.0</td>\n",
       "      <td>1</td>\n",
       "      <td>1</td>\n",
       "      <td>1.0</td>\n",
       "    </tr>\n",
       "    <tr>\n",
       "      <th>496</th>\n",
       "      <td>12</td>\n",
       "      <td>6199</td>\n",
       "      <td>4</td>\n",
       "      <td>2</td>\n",
       "      <td>28.0</td>\n",
       "      <td>1</td>\n",
       "      <td>1</td>\n",
       "      <td>0.0</td>\n",
       "    </tr>\n",
       "    <tr>\n",
       "      <th>497</th>\n",
       "      <td>24</td>\n",
       "      <td>1987</td>\n",
       "      <td>2</td>\n",
       "      <td>1</td>\n",
       "      <td>21.0</td>\n",
       "      <td>1</td>\n",
       "      <td>1</td>\n",
       "      <td>1.0</td>\n",
       "    </tr>\n",
       "    <tr>\n",
       "      <th>498</th>\n",
       "      <td>24</td>\n",
       "      <td>2303</td>\n",
       "      <td>4</td>\n",
       "      <td>1</td>\n",
       "      <td>45.0</td>\n",
       "      <td>2</td>\n",
       "      <td>1</td>\n",
       "      <td>1.0</td>\n",
       "    </tr>\n",
       "    <tr>\n",
       "      <th>499</th>\n",
       "      <td>30</td>\n",
       "      <td>6350</td>\n",
       "      <td>4</td>\n",
       "      <td>2</td>\n",
       "      <td>31.0</td>\n",
       "      <td>2</td>\n",
       "      <td>1</td>\n",
       "      <td>1.0</td>\n",
       "    </tr>\n",
       "  </tbody>\n",
       "</table>\n",
       "<p>500 rows × 8 columns</p>\n",
       "</div>"
      ],
      "text/plain": [
       "     Duration-of-Credit-Month  Credit-Amount  Instalment-per-cent  \\\n",
       "0                           9           2799                    2   \n",
       "1                          12           2122                    3   \n",
       "2                          24           3758                    1   \n",
       "3                          11           3905                    2   \n",
       "4                           6           1957                    1   \n",
       "..                        ...            ...                  ...   \n",
       "495                        18           3966                    1   \n",
       "496                        12           6199                    4   \n",
       "497                        24           1987                    2   \n",
       "498                        24           2303                    4   \n",
       "499                        30           6350                    4   \n",
       "\n",
       "     Most-valuable-available-asset  Age-years  Type-of-apartment  Occupation  \\\n",
       "0                                1       36.0                  1           1   \n",
       "1                                1       39.0                  1           1   \n",
       "2                                4       23.0                  1           1   \n",
       "3                                1       36.0                  1           1   \n",
       "4                                3       31.0                  2           1   \n",
       "..                             ...        ...                ...         ...   \n",
       "495                              1       33.0                  1           1   \n",
       "496                              2       28.0                  1           1   \n",
       "497                              1       21.0                  1           1   \n",
       "498                              1       45.0                  2           1   \n",
       "499                              2       31.0                  2           1   \n",
       "\n",
       "     credit  \n",
       "0       1.0  \n",
       "1       1.0  \n",
       "2       1.0  \n",
       "3       1.0  \n",
       "4       1.0  \n",
       "..      ...  \n",
       "495     1.0  \n",
       "496     0.0  \n",
       "497     1.0  \n",
       "498     1.0  \n",
       "499     1.0  \n",
       "\n",
       "[500 rows x 8 columns]"
      ]
     },
     "execution_count": 584,
     "metadata": {},
     "output_type": "execute_result"
    }
   ],
   "source": [
    "df_test"
   ]
  },
  {
   "cell_type": "code",
   "execution_count": 585,
   "metadata": {},
   "outputs": [
    {
     "data": {
      "text/html": [
       "<div>\n",
       "<style scoped>\n",
       "    .dataframe tbody tr th:only-of-type {\n",
       "        vertical-align: middle;\n",
       "    }\n",
       "\n",
       "    .dataframe tbody tr th {\n",
       "        vertical-align: top;\n",
       "    }\n",
       "\n",
       "    .dataframe thead th {\n",
       "        text-align: right;\n",
       "    }\n",
       "</style>\n",
       "<table border=\"1\" class=\"dataframe\">\n",
       "  <thead>\n",
       "    <tr style=\"text-align: right;\">\n",
       "      <th></th>\n",
       "      <th>Duration-of-Credit-Month</th>\n",
       "      <th>Credit-Amount</th>\n",
       "      <th>Instalment-per-cent</th>\n",
       "      <th>Most-valuable-available-asset</th>\n",
       "      <th>Age-years</th>\n",
       "      <th>Type-of-apartment</th>\n",
       "      <th>Occupation</th>\n",
       "      <th>credit</th>\n",
       "      <th>Credit-Application-Result</th>\n",
       "    </tr>\n",
       "  </thead>\n",
       "  <tbody>\n",
       "    <tr>\n",
       "      <th>296</th>\n",
       "      <td>12</td>\n",
       "      <td>836</td>\n",
       "      <td>4</td>\n",
       "      <td>2</td>\n",
       "      <td>23.0</td>\n",
       "      <td>2</td>\n",
       "      <td>1</td>\n",
       "      <td>1.0</td>\n",
       "      <td>Creditworthy</td>\n",
       "    </tr>\n",
       "    <tr>\n",
       "      <th>159</th>\n",
       "      <td>6</td>\n",
       "      <td>1343</td>\n",
       "      <td>1</td>\n",
       "      <td>1</td>\n",
       "      <td>46.0</td>\n",
       "      <td>2</td>\n",
       "      <td>1</td>\n",
       "      <td>1.0</td>\n",
       "      <td>Creditworthy</td>\n",
       "    </tr>\n",
       "    <tr>\n",
       "      <th>161</th>\n",
       "      <td>18</td>\n",
       "      <td>6070</td>\n",
       "      <td>3</td>\n",
       "      <td>3</td>\n",
       "      <td>33.0</td>\n",
       "      <td>2</td>\n",
       "      <td>1</td>\n",
       "      <td>1.0</td>\n",
       "      <td>Creditworthy</td>\n",
       "    </tr>\n",
       "    <tr>\n",
       "      <th>214</th>\n",
       "      <td>39</td>\n",
       "      <td>14179</td>\n",
       "      <td>4</td>\n",
       "      <td>2</td>\n",
       "      <td>30.0</td>\n",
       "      <td>2</td>\n",
       "      <td>1</td>\n",
       "      <td>1.0</td>\n",
       "      <td>Creditworthy</td>\n",
       "    </tr>\n",
       "    <tr>\n",
       "      <th>477</th>\n",
       "      <td>21</td>\n",
       "      <td>2767</td>\n",
       "      <td>4</td>\n",
       "      <td>3</td>\n",
       "      <td>61.0</td>\n",
       "      <td>1</td>\n",
       "      <td>1</td>\n",
       "      <td>1.0</td>\n",
       "      <td>Creditworthy</td>\n",
       "    </tr>\n",
       "    <tr>\n",
       "      <th>412</th>\n",
       "      <td>6</td>\n",
       "      <td>1209</td>\n",
       "      <td>4</td>\n",
       "      <td>2</td>\n",
       "      <td>47.0</td>\n",
       "      <td>2</td>\n",
       "      <td>1</td>\n",
       "      <td>1.0</td>\n",
       "      <td>Creditworthy</td>\n",
       "    </tr>\n",
       "    <tr>\n",
       "      <th>496</th>\n",
       "      <td>12</td>\n",
       "      <td>6199</td>\n",
       "      <td>4</td>\n",
       "      <td>2</td>\n",
       "      <td>28.0</td>\n",
       "      <td>1</td>\n",
       "      <td>1</td>\n",
       "      <td>0.0</td>\n",
       "      <td>Non-Creditworthy</td>\n",
       "    </tr>\n",
       "    <tr>\n",
       "      <th>400</th>\n",
       "      <td>24</td>\n",
       "      <td>1207</td>\n",
       "      <td>4</td>\n",
       "      <td>2</td>\n",
       "      <td>24.0</td>\n",
       "      <td>1</td>\n",
       "      <td>1</td>\n",
       "      <td>0.0</td>\n",
       "      <td>Non-Creditworthy</td>\n",
       "    </tr>\n",
       "    <tr>\n",
       "      <th>425</th>\n",
       "      <td>12</td>\n",
       "      <td>727</td>\n",
       "      <td>4</td>\n",
       "      <td>4</td>\n",
       "      <td>33.0</td>\n",
       "      <td>2</td>\n",
       "      <td>1</td>\n",
       "      <td>1.0</td>\n",
       "      <td>Creditworthy</td>\n",
       "    </tr>\n",
       "    <tr>\n",
       "      <th>313</th>\n",
       "      <td>24</td>\n",
       "      <td>2957</td>\n",
       "      <td>4</td>\n",
       "      <td>2</td>\n",
       "      <td>63.0</td>\n",
       "      <td>2</td>\n",
       "      <td>1</td>\n",
       "      <td>1.0</td>\n",
       "      <td>Creditworthy</td>\n",
       "    </tr>\n",
       "  </tbody>\n",
       "</table>\n",
       "</div>"
      ],
      "text/plain": [
       "     Duration-of-Credit-Month  Credit-Amount  Instalment-per-cent  \\\n",
       "296                        12            836                    4   \n",
       "159                         6           1343                    1   \n",
       "161                        18           6070                    3   \n",
       "214                        39          14179                    4   \n",
       "477                        21           2767                    4   \n",
       "412                         6           1209                    4   \n",
       "496                        12           6199                    4   \n",
       "400                        24           1207                    4   \n",
       "425                        12            727                    4   \n",
       "313                        24           2957                    4   \n",
       "\n",
       "     Most-valuable-available-asset  Age-years  Type-of-apartment  Occupation  \\\n",
       "296                              2       23.0                  2           1   \n",
       "159                              1       46.0                  2           1   \n",
       "161                              3       33.0                  2           1   \n",
       "214                              2       30.0                  2           1   \n",
       "477                              3       61.0                  1           1   \n",
       "412                              2       47.0                  2           1   \n",
       "496                              2       28.0                  1           1   \n",
       "400                              2       24.0                  1           1   \n",
       "425                              4       33.0                  2           1   \n",
       "313                              2       63.0                  2           1   \n",
       "\n",
       "     credit Credit-Application-Result  \n",
       "296     1.0              Creditworthy  \n",
       "159     1.0              Creditworthy  \n",
       "161     1.0              Creditworthy  \n",
       "214     1.0              Creditworthy  \n",
       "477     1.0              Creditworthy  \n",
       "412     1.0              Creditworthy  \n",
       "496     0.0          Non-Creditworthy  \n",
       "400     0.0          Non-Creditworthy  \n",
       "425     1.0              Creditworthy  \n",
       "313     1.0              Creditworthy  "
      ]
     },
     "execution_count": 585,
     "metadata": {},
     "output_type": "execute_result"
    }
   ],
   "source": [
    "for index, row in df_test.iterrows():\n",
    "    if row['credit'] > 0.5:\n",
    "        value = 'Creditworthy'\n",
    "    else:\n",
    "        value = 'Non-Creditworthy'\n",
    "  \n",
    "        \n",
    "    df_test.at[index,'Credit-Application-Result'] = value\n",
    "    \n",
    "\n",
    "df_test.sample(10)"
   ]
  },
  {
   "cell_type": "code",
   "execution_count": 586,
   "metadata": {},
   "outputs": [
    {
     "data": {
      "text/plain": [
       "Creditworthy        449\n",
       "Non-Creditworthy     51\n",
       "Name: Credit-Application-Result, dtype: int64"
      ]
     },
     "execution_count": 586,
     "metadata": {},
     "output_type": "execute_result"
    }
   ],
   "source": [
    "df_test['Credit-Application-Result'].value_counts()"
   ]
  },
  {
   "cell_type": "markdown",
   "metadata": {},
   "source": [
    "There are 449 applicants are qualifies for creditworthy"
   ]
  },
  {
   "cell_type": "code",
   "execution_count": null,
   "metadata": {},
   "outputs": [],
   "source": []
  }
 ],
 "metadata": {
  "kernelspec": {
   "display_name": "Python 3",
   "language": "python",
   "name": "python3"
  },
  "language_info": {
   "codemirror_mode": {
    "name": "ipython",
    "version": 3
   },
   "file_extension": ".py",
   "mimetype": "text/x-python",
   "name": "python",
   "nbconvert_exporter": "python",
   "pygments_lexer": "ipython3",
   "version": "3.7.6"
  }
 },
 "nbformat": 4,
 "nbformat_minor": 4
}
